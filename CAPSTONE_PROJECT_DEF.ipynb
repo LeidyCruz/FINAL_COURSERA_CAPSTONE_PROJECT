{
  "nbformat": 4,
  "nbformat_minor": 0,
  "metadata": {
    "colab": {
      "name": "CAPSTONE_PROJECT_DEF.ipynb",
      "provenance": [],
      "authorship_tag": "ABX9TyMt4/RAT+36uhLK745kmbCi",
      "include_colab_link": true
    },
    "kernelspec": {
      "name": "python3",
      "display_name": "Python 3"
    },
    "language_info": {
      "name": "python"
    }
  },
  "cells": [
    {
      "cell_type": "markdown",
      "metadata": {
        "id": "view-in-github",
        "colab_type": "text"
      },
      "source": [
        "<a href=\"https://colab.research.google.com/github/LeidyCruz/FINAL_COURSERA_CAPSTONE_PROJECT/blob/main/CAPSTONE_PROJECT_DEF.ipynb\" target=\"_parent\"><img src=\"https://colab.research.google.com/assets/colab-badge.svg\" alt=\"Open In Colab\"/></a>"
      ]
    },
    {
      "cell_type": "markdown",
      "metadata": {
        "id": "fkglPPZwIkUW"
      },
      "source": [
        "This notebook will be mainly used for the CAPSTONE PROJECT.\n"
      ]
    },
    {
      "cell_type": "code",
      "metadata": {
        "id": "0rSKKcVnIdvx"
      },
      "source": [
        "import pandas as pd\n",
        "import numpy as np"
      ],
      "execution_count": 4,
      "outputs": []
    },
    {
      "cell_type": "code",
      "metadata": {
        "colab": {
          "base_uri": "https://localhost:8080/"
        },
        "id": "DdPVDG0UH_B0",
        "outputId": "4c75d882-5d32-4d83-89a3-db466f2ad31d"
      },
      "source": [
        "print ('hello CAPSTONE PROJECT COURSE!')"
      ],
      "execution_count": 5,
      "outputs": [
        {
          "output_type": "stream",
          "text": [
            "hello CAPSTONE PROJECT COURSE!\n"
          ],
          "name": "stdout"
        }
      ]
    }
  ]
}